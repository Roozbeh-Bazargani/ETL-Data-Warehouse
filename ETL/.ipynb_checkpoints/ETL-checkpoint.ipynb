{
 "cells": [
  {
   "cell_type": "code",
   "execution_count": 2,
   "metadata": {},
   "outputs": [],
   "source": [
    "import psycopg2\n",
    "import psycopg2.extras"
   ]
  },
  {
   "cell_type": "code",
   "execution_count": 5,
   "metadata": {},
   "outputs": [],
   "source": [
    "# Connect to an existing database\n",
    "conn1 = psycopg2.connect(\"dbname=DB-project user=postgres password=admin\")\n",
    "conn2 = psycopg2.connect(\"dbname=DB-Project-ETL user=postgres password=admin\")"
   ]
  },
  {
   "cell_type": "code",
   "execution_count": 6,
   "metadata": {},
   "outputs": [],
   "source": [
    "cur1 = conn1.cursor()\n",
    "cur2 = conn2.cursor()\n",
    "\n",
    "conn1.autocommit = True\n",
    "conn2.autocommit = True"
   ]
  },
  {
   "cell_type": "code",
   "execution_count": 63,
   "metadata": {},
   "outputs": [],
   "source": [
    "def extract_pk(cursor, table):\n",
    "    cursor.execute(\"\"\"\n",
    "    SELECT c.column_name, c.data_type\n",
    "    FROM information_schema.table_constraints tc \n",
    "    JOIN information_schema.constraint_column_usage AS ccu USING (constraint_schema, constraint_name) \n",
    "    JOIN information_schema.columns AS c ON c.table_schema = tc.constraint_schema\n",
    "      AND tc.table_name = c.table_name AND ccu.column_name = c.column_name\n",
    "    WHERE constraint_type = 'PRIMARY KEY' and tc.table_name = '{table}';\n",
    "    \"\"\".format(table=table))\n",
    "\n",
    "def extract_pk_values(cursor, table, pk):\n",
    "    cursor.execute(\"\"\"\n",
    "    SELECT {pk}\n",
    "    FROM {table}\n",
    "    \"\"\".format(table=table, pk=pk))\n",
    "    \n",
    "def table_allrows(cursor, table):\n",
    "    cursor.execute(\"\"\"\n",
    "    SELECT *\n",
    "    FROM {table};\n",
    "    \"\"\".format(table=table))\n",
    "\n",
    "def insert_warehouse(cursor, value, table, pk, pk_value):\n",
    "    cursor.execute(\"\"\"\n",
    "    DELETE FROM {table}\n",
    "    WHERE {pk}={pk_value};\n",
    "    INSERT INTO {table}\n",
    "    VALUES {value}\n",
    "    \"\"\".format(table=table, value=value, pk=pk, pk_value=pk_value))\n",
    "    \n",
    "def delete_warehouse(cursor, table, pk, pk_values):\n",
    "    cursor.execute(\"\"\"\n",
    "    DELETE FROM {table}\n",
    "    WHERE {pk} NOT IN {pk_values}\n",
    "    \"\"\".format(table=table, pk=pk, pk_values=pk_values))"
   ]
  },
  {
   "cell_type": "code",
   "execution_count": 66,
   "metadata": {},
   "outputs": [],
   "source": [
    "def pipeline(table):\n",
    "    # insert and update \n",
    "    with conn1.cursor() as cursor1:\n",
    "        table_allrows(cursor1, table)\n",
    "        records = cursor1.fetchone()\n",
    "        with conn2.cursor() as cursor2:\n",
    "            extract_pk(cursor2, table)\n",
    "            pk = cursor2.fetchone()[0]\n",
    "        while records != None:\n",
    "            pk_value = records[0] # what if it was a string?\n",
    "            value = str(records).replace('None', \"NULL\")\n",
    "            with conn2.cursor() as cursor2:\n",
    "                try:\n",
    "                    insert_warehouse(cursor2, value, table, pk, pk_value)\n",
    "                    conn2.commit()\n",
    "                except Exception as e:\n",
    "                    conn2.rollback()\n",
    "                    raise\n",
    "            records = cursor1.fetchone()\n",
    "    # delete\n",
    "    with conn1.cursor() as cursor1:\n",
    "        extract_pk_values(cursor1, 'book', 'book_id')\n",
    "        keys = cursor1.fetchall()\n",
    "        pk_values = '('\n",
    "        for key in keys:\n",
    "            pk_values += '{}, '.format(key[0])\n",
    "        pk_values = pk_values[:-2]\n",
    "        pk_values +=')'\n",
    "        with conn2.cursor() as cursor2:\n",
    "            delete_warehouse(cursor2, table, pk, pk_values)\n",
    "            conn2.commit()"
   ]
  },
  {
   "cell_type": "code",
   "execution_count": 70,
   "metadata": {},
   "outputs": [],
   "source": [
    "pipeline('book')"
   ]
  },
  {
   "cell_type": "code",
   "execution_count": null,
   "metadata": {},
   "outputs": [],
   "source": []
  }
 ],
 "metadata": {
  "kernelspec": {
   "display_name": "Python 3",
   "language": "python",
   "name": "python3"
  },
  "language_info": {
   "codemirror_mode": {
    "name": "ipython",
    "version": 3
   },
   "file_extension": ".py",
   "mimetype": "text/x-python",
   "name": "python",
   "nbconvert_exporter": "python",
   "pygments_lexer": "ipython3",
   "version": "3.6.12"
  }
 },
 "nbformat": 4,
 "nbformat_minor": 1
}
